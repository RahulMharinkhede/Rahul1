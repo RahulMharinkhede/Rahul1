{
 "cells": [
  {
   "cell_type": "markdown",
   "id": "a6ce837b-7114-4572-ad06-646bd9d7504c",
   "metadata": {},
   "source": [
    "# Data Science Tools and Ecosystem"
   ]
  },
  {
   "cell_type": "markdown",
   "id": "e7732102-486a-46a1-a5a4-eb469bed4d22",
   "metadata": {},
   "source": [
    "### In this notebook, Data Science Tools and Ecosystem are summarized."
   ]
  },
  {
   "cell_type": "markdown",
   "id": "4a4ca704-9d99-4ea8-b446-fc4210a05044",
   "metadata": {},
   "source": [
    "#### Some of the popular languages that Data Scientists use are :\n",
    "1. Python\n",
    "2. R language\n",
    "3. Java\n"
   ]
  },
  {
   "cell_type": "markdown",
   "id": "43595e3e-6693-49dc-b427-e1656aefce30",
   "metadata": {},
   "source": [
    "#### Some of the commonly used libraries used by Data Scientists include:\n",
    "1. NumPy\n",
    "2. Matplotlab\n",
    "3. ggplot"
   ]
  },
  {
   "cell_type": "markdown",
   "id": "965fc82e-a825-49e8-975e-9e3eca319131",
   "metadata": {},
   "source": [
    "|Data Science Tools|\n",
    "|------------------|\n",
    "|Jupyter lab       |\n",
    "|Rstudio           |\n",
    "|GitHub            |"
   ]
  },
  {
   "cell_type": "markdown",
   "id": "37daf068-0570-4f56-803b-43d042bf87c9",
   "metadata": {},
   "source": [
    "### Below are a few examples of evaluating arithmetic expressions in Python"
   ]
  },
  {
   "cell_type": "markdown",
   "id": "67743e61-e1cd-4ece-bf8a-44a09724972a",
   "metadata": {},
   "source": [
    "#### This a simple arithmetic expression to mutiply then add integers"
   ]
  },
  {
   "cell_type": "code",
   "execution_count": 1,
   "id": "73287bf5-cef9-4de2-8632-6f73ec81fad4",
   "metadata": {
    "tags": []
   },
   "outputs": [
    {
     "data": {
      "text/plain": [
       "17"
      ]
     },
     "execution_count": 1,
     "metadata": {},
     "output_type": "execute_result"
    }
   ],
   "source": [
    "(3*4)+5"
   ]
  },
  {
   "cell_type": "markdown",
   "id": "c08f2078-4d25-40eb-8c75-4f25f02e5b45",
   "metadata": {},
   "source": [
    "#### This will convert 200 minutes to hours by diving by 60"
   ]
  },
  {
   "cell_type": "code",
   "execution_count": 2,
   "id": "e6735b74-d3f3-4c58-9445-9622fb010759",
   "metadata": {
    "tags": []
   },
   "outputs": [
    {
     "data": {
      "text/plain": [
       "3.3333333333333335"
      ]
     },
     "execution_count": 2,
     "metadata": {},
     "output_type": "execute_result"
    }
   ],
   "source": [
    "200/60"
   ]
  },
  {
   "cell_type": "markdown",
   "id": "9232bb5d-e682-4819-9b45-b76512210a92",
   "metadata": {},
   "source": [
    "## Objective: \n",
    "* Some of the popular languages that Data Scientists use.\n",
    "* Some of the commonly used libraries used by Data Scientists.\n",
    "* Data Science Tools.\n",
    "* examples of evaluating arithmetic expressions in Python.\n",
    "\n"
   ]
  },
  {
   "cell_type": "markdown",
   "id": "06048cf5-d4a3-49e9-a1cc-dccdfa19497a",
   "metadata": {},
   "source": [
    "## Author:\n",
    "Rahul Harinkhede"
   ]
  },
  {
   "cell_type": "code",
   "execution_count": null,
   "id": "1cf5a022-515b-4971-b1df-f3b4d6e322bb",
   "metadata": {},
   "outputs": [],
   "source": []
  }
 ],
 "metadata": {
  "kernelspec": {
   "display_name": "Python",
   "language": "python",
   "name": "conda-env-python-py"
  },
  "language_info": {
   "codemirror_mode": {
    "name": "ipython",
    "version": 3
   },
   "file_extension": ".py",
   "mimetype": "text/x-python",
   "name": "python",
   "nbconvert_exporter": "python",
   "pygments_lexer": "ipython3",
   "version": "3.7.12"
  }
 },
 "nbformat": 4,
 "nbformat_minor": 5
}
